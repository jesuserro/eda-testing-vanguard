{
 "cells": [
  {
   "cell_type": "markdown",
   "metadata": {},
   "source": [
    "# Interacciones"
   ]
  },
  {
   "cell_type": "markdown",
   "metadata": {},
   "source": [
    "## 1. Unión de datos de navegación"
   ]
  },
  {
   "cell_type": "code",
   "execution_count": 2,
   "metadata": {},
   "outputs": [
    {
     "data": {
      "text/plain": [
       "Index(['client_id', 'visitor_id', 'visit_id', 'process_step', 'date_time'], dtype='object')"
      ]
     },
     "execution_count": 2,
     "metadata": {},
     "output_type": "execute_result"
    }
   ],
   "source": [
    "import pandas as pd\n",
    "\n",
    "# Cargar los dataframes desde los archivos de texto\n",
    "df1 = pd.read_csv('../data/raw/df_final_web_data_pt_1.txt')\n",
    "df2 = pd.read_csv('../data/raw/df_final_web_data_pt_2.txt')\n",
    "\n",
    "# Concatenar los dataframes\n",
    "df_final = pd.concat([df1, df2], ignore_index=True)\n",
    "\n",
    "# Mostrar el dataframe concatenado\n",
    "df_final.columns # 755405 rows x 1 columns"
   ]
  },
  {
   "cell_type": "code",
   "execution_count": 2,
   "metadata": {},
   "outputs": [],
   "source": [
    "df_final.to_csv('../data/processed/navegacion.csv', index=False)\n"
   ]
  },
  {
   "cell_type": "markdown",
   "metadata": {},
   "source": [
    "## 2. Unión de clientes a sus grupos de experimento"
   ]
  },
  {
   "cell_type": "code",
   "execution_count": null,
   "metadata": {},
   "outputs": [],
   "source": [
    "# 1. Carga de datos\n",
    "df_experimento = pd.read_csv(\"../data/raw/df_final_experiment_clients.txt\")\n",
    "df_clientes = pd.read_csv(\"../data/processed/clients.csv\")\n",
    "\n",
    "# 2. Unir ambos DataFrames usando la columna 'client_id'\n",
    "df_unido = pd.merge(\n",
    "    df_clientes, \n",
    "    df_experimento, \n",
    "    on=\"client_id\",    # columna clave\n",
    "    how=\"inner\"        # tipo de join (inner, left, etc.). Usualmente inner.\n",
    ")\n",
    "\n",
    "# 3. Guardar resultado en un nuevo CSV (sin índice)\n",
    "# df_unido.to_csv(\"../data/processed/clients_experiment.csv\", index=False)\n",
    "\n",
    "# 4. Visualizar primeras filas para confirmar\n",
    "df_unido.head()"
   ]
  },
  {
   "cell_type": "markdown",
   "metadata": {},
   "source": [
    "## 3. Unión navegación a clientes"
   ]
  },
  {
   "cell_type": "markdown",
   "metadata": {},
   "source": [
    "Se ponen los datos de navegación a la izquierda porque son los importantes para el análisis. Conservar los `visit_id` es lo más importante. Tendremos `client_id` repetidos pero no importa. Siempre podrán ser agrupados por `client_id`."
   ]
  },
  {
   "cell_type": "code",
   "execution_count": 3,
   "metadata": {},
   "outputs": [
    {
     "name": "stderr",
     "output_type": "stream",
     "text": [
      "C:\\Users\\jesus\\AppData\\Local\\Temp\\ipykernel_24936\\1620037945.py:3: DtypeWarning: Columns (9) have mixed types. Specify dtype option on import or set low_memory=False.\n",
      "  df_clientes_exp = pd.read_csv(\"../data/processed/clients_experiment.csv\")\n"
     ]
    },
    {
     "name": "stdout",
     "output_type": "stream",
     "text": [
      "(422564, 14)\n"
     ]
    },
    {
     "data": {
      "text/html": [
       "<div>\n",
       "<style scoped>\n",
       "    .dataframe tbody tr th:only-of-type {\n",
       "        vertical-align: middle;\n",
       "    }\n",
       "\n",
       "    .dataframe tbody tr th {\n",
       "        vertical-align: top;\n",
       "    }\n",
       "\n",
       "    .dataframe thead th {\n",
       "        text-align: right;\n",
       "    }\n",
       "</style>\n",
       "<table border=\"1\" class=\"dataframe\">\n",
       "  <thead>\n",
       "    <tr style=\"text-align: right;\">\n",
       "      <th></th>\n",
       "      <th>client_id</th>\n",
       "      <th>visitor_id</th>\n",
       "      <th>visit_id</th>\n",
       "      <th>process_step</th>\n",
       "      <th>date_time</th>\n",
       "      <th>clnt_tenure_yr</th>\n",
       "      <th>clnt_tenure_mnth</th>\n",
       "      <th>clnt_age</th>\n",
       "      <th>gendr</th>\n",
       "      <th>num_accts</th>\n",
       "      <th>bal</th>\n",
       "      <th>calls_6_mnth</th>\n",
       "      <th>logons_6_mnth</th>\n",
       "      <th>Variation</th>\n",
       "    </tr>\n",
       "  </thead>\n",
       "  <tbody>\n",
       "    <tr>\n",
       "      <th>0</th>\n",
       "      <td>9988021</td>\n",
       "      <td>580560515_7732621733</td>\n",
       "      <td>781255054_21935453173_531117</td>\n",
       "      <td>step_3</td>\n",
       "      <td>2017-04-17 15:27:07</td>\n",
       "      <td>5</td>\n",
       "      <td>64</td>\n",
       "      <td>79.0</td>\n",
       "      <td>U</td>\n",
       "      <td>2</td>\n",
       "      <td>189023.86</td>\n",
       "      <td>1</td>\n",
       "      <td>4</td>\n",
       "      <td>Test</td>\n",
       "    </tr>\n",
       "    <tr>\n",
       "      <th>1</th>\n",
       "      <td>9988021</td>\n",
       "      <td>580560515_7732621733</td>\n",
       "      <td>781255054_21935453173_531117</td>\n",
       "      <td>step_2</td>\n",
       "      <td>2017-04-17 15:26:51</td>\n",
       "      <td>5</td>\n",
       "      <td>64</td>\n",
       "      <td>79.0</td>\n",
       "      <td>U</td>\n",
       "      <td>2</td>\n",
       "      <td>189023.86</td>\n",
       "      <td>1</td>\n",
       "      <td>4</td>\n",
       "      <td>Test</td>\n",
       "    </tr>\n",
       "    <tr>\n",
       "      <th>2</th>\n",
       "      <td>9988021</td>\n",
       "      <td>580560515_7732621733</td>\n",
       "      <td>781255054_21935453173_531117</td>\n",
       "      <td>step_3</td>\n",
       "      <td>2017-04-17 15:19:22</td>\n",
       "      <td>5</td>\n",
       "      <td>64</td>\n",
       "      <td>79.0</td>\n",
       "      <td>U</td>\n",
       "      <td>2</td>\n",
       "      <td>189023.86</td>\n",
       "      <td>1</td>\n",
       "      <td>4</td>\n",
       "      <td>Test</td>\n",
       "    </tr>\n",
       "    <tr>\n",
       "      <th>3</th>\n",
       "      <td>9988021</td>\n",
       "      <td>580560515_7732621733</td>\n",
       "      <td>781255054_21935453173_531117</td>\n",
       "      <td>step_2</td>\n",
       "      <td>2017-04-17 15:19:13</td>\n",
       "      <td>5</td>\n",
       "      <td>64</td>\n",
       "      <td>79.0</td>\n",
       "      <td>U</td>\n",
       "      <td>2</td>\n",
       "      <td>189023.86</td>\n",
       "      <td>1</td>\n",
       "      <td>4</td>\n",
       "      <td>Test</td>\n",
       "    </tr>\n",
       "    <tr>\n",
       "      <th>4</th>\n",
       "      <td>9988021</td>\n",
       "      <td>580560515_7732621733</td>\n",
       "      <td>781255054_21935453173_531117</td>\n",
       "      <td>step_3</td>\n",
       "      <td>2017-04-17 15:18:04</td>\n",
       "      <td>5</td>\n",
       "      <td>64</td>\n",
       "      <td>79.0</td>\n",
       "      <td>U</td>\n",
       "      <td>2</td>\n",
       "      <td>189023.86</td>\n",
       "      <td>1</td>\n",
       "      <td>4</td>\n",
       "      <td>Test</td>\n",
       "    </tr>\n",
       "  </tbody>\n",
       "</table>\n",
       "</div>"
      ],
      "text/plain": [
       "   client_id            visitor_id                      visit_id process_step  \\\n",
       "0    9988021  580560515_7732621733  781255054_21935453173_531117       step_3   \n",
       "1    9988021  580560515_7732621733  781255054_21935453173_531117       step_2   \n",
       "2    9988021  580560515_7732621733  781255054_21935453173_531117       step_3   \n",
       "3    9988021  580560515_7732621733  781255054_21935453173_531117       step_2   \n",
       "4    9988021  580560515_7732621733  781255054_21935453173_531117       step_3   \n",
       "\n",
       "             date_time  clnt_tenure_yr  clnt_tenure_mnth  clnt_age gendr  \\\n",
       "0  2017-04-17 15:27:07               5                64      79.0     U   \n",
       "1  2017-04-17 15:26:51               5                64      79.0     U   \n",
       "2  2017-04-17 15:19:22               5                64      79.0     U   \n",
       "3  2017-04-17 15:19:13               5                64      79.0     U   \n",
       "4  2017-04-17 15:18:04               5                64      79.0     U   \n",
       "\n",
       "   num_accts        bal  calls_6_mnth  logons_6_mnth Variation  \n",
       "0          2  189023.86             1              4      Test  \n",
       "1          2  189023.86             1              4      Test  \n",
       "2          2  189023.86             1              4      Test  \n",
       "3          2  189023.86             1              4      Test  \n",
       "4          2  189023.86             1              4      Test  "
      ]
     },
     "execution_count": 3,
     "metadata": {},
     "output_type": "execute_result"
    }
   ],
   "source": [
    "# 1. Cargar los CSV\n",
    "df_navegacion = pd.read_csv(\"../data/processed/navegacion.csv\")\n",
    "df_clientes_exp = pd.read_csv(\"../data/processed/clients_experiment.csv\")\n",
    "\n",
    "# 2. Hacer el merge en client_id\n",
    "df_final = pd.merge(\n",
    "    df_navegacion,\n",
    "    df_clientes_exp,\n",
    "    on=\"client_id\",\n",
    "    how=\"inner\"  # usualmente 'inner' en un A/B test\n",
    ")\n",
    "\n",
    "# 3. Guardar el resultado en un nuevo CSV\n",
    "df_final.to_csv(\"../data/processed/navegacion_clientes_experimento.csv\", index=False)\n",
    "\n",
    "# 4. Revisar la forma y las primeras filas\n",
    "print(df_final.shape)\n",
    "df_final.head()\n"
   ]
  }
 ],
 "metadata": {
  "kernelspec": {
   "display_name": "base",
   "language": "python",
   "name": "python3"
  },
  "language_info": {
   "codemirror_mode": {
    "name": "ipython",
    "version": 3
   },
   "file_extension": ".py",
   "mimetype": "text/x-python",
   "name": "python",
   "nbconvert_exporter": "python",
   "pygments_lexer": "ipython3",
   "version": "3.12.7"
  }
 },
 "nbformat": 4,
 "nbformat_minor": 2
}
