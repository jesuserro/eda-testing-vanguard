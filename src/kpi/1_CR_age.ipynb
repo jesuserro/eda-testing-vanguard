{
 "cells": [
  {
   "cell_type": "markdown",
   "metadata": {},
   "source": [
    "# Completion Rate - Segmentación por edad"
   ]
  },
  {
   "cell_type": "code",
   "execution_count": 8,
   "metadata": {},
   "outputs": [
    {
     "name": "stdout",
     "output_type": "stream",
     "text": [
      "=== Rango de Edad: >55 ===\n",
      "   Completion Rate (Test)   = 53.446%\n",
      "   Completion Rate (Control)= 44.406%\n",
      "   z-stat = 14.1143, p-value = 0.000000\n",
      "   -> Diferencia significativa (rechazamos H0).\n",
      "   [Test completó 6940 de 12985 sesiones]\n",
      "   [Ctrl completó 5096 de 11476 sesiones]\n",
      "\n",
      "=== Rango de Edad: <35 ===\n",
      "   Completion Rate (Test)   = 62.462%\n",
      "   Completion Rate (Control)= 53.555%\n",
      "   z-stat = 11.8495, p-value = 0.000000\n",
      "   -> Diferencia significativa (rechazamos H0).\n",
      "   [Test completó 5799 de 9284 sesiones]\n",
      "   [Ctrl completó 4293 de 8016 sesiones]\n",
      "\n",
      "=== Rango de Edad: 35-55 ===\n",
      "   Completion Rate (Test)   = 59.543%\n",
      "   Completion Rate (Control)= 52.921%\n",
      "   z-stat = 10.1183, p-value = 0.000000\n",
      "   -> Diferencia significativa (rechazamos H0).\n",
      "   [Test completó 7434 de 12485 sesiones]\n",
      "   [Ctrl completó 5617 de 10614 sesiones]\n",
      "\n"
     ]
    }
   ],
   "source": [
    "import pandas as pd\n",
    "import numpy as np\n",
    "import statsmodels.api as sm\n",
    "import matplotlib.pyplot as plt\n",
    "\n",
    "# 1) Cargar el DF\n",
    "df = pd.read_csv(\"../../data/processed/navegacion_clientes_experimento_limpio.csv\")\n",
    "\n",
    "# 2) Definir si se completó la sesión (llegó a 'confirm')\n",
    "df[\"completed\"] = df[\"process_step\"] == \"confirm\"\n",
    "\n",
    "# 3) Crear un DataFrame resumen a nivel de \"visit_id\" + \"variation\"\n",
    "#    Para que cada sesión sea 1 fila:\n",
    "df_sessions = (df\n",
    "    .groupby([\"visit_id\", \"variation\"], as_index=False)\n",
    "    .agg({\n",
    "        \"completed\": \"max\",           # 1 si en algún momento hubo 'confirm'\n",
    "        \"clnt_age\": \"mean\",           # si no varía en la misma sesión, 'mean' o 'first' da lo mismo\n",
    "        \"client_id\": \"first\"          # (opcional) para saber a qué cliente está asociado\n",
    "    })\n",
    ")\n",
    "\n",
    "# 4) Crear categoría de edad en este DF resumido\n",
    "bins = [0, 35, 55, 120]\n",
    "labels = [\"<35\", \"35-55\", \">55\"]\n",
    "df_sessions[\"age_bin\"] = pd.cut(df_sessions[\"clnt_age\"], bins=bins, labels=labels, include_lowest=True)\n",
    "\n",
    "# 5) Chequear distribution\n",
    "# print(df_sessions[\"age_bin\"].value_counts(dropna=False))\n",
    "\n",
    "# 6) Test de hipótesis segmentado por rango de edad\n",
    "#    Para cada 'age_bin', comparamos la proporción de 'completed' en Test vs. Control\n",
    "def proportion_test_for_segment(seg_df):\n",
    "    cr_summary = seg_df.groupby(\"variation\")[\"completed\"].agg([\"mean\",\"sum\",\"count\"])\n",
    "    # Chequea que existan ambos grupos\n",
    "    if not {\"Test\",\"Control\"}.issubset(cr_summary.index):\n",
    "        return None\n",
    "\n",
    "    test_sum = cr_summary.loc[\"Test\",\"sum\"]\n",
    "    test_n   = cr_summary.loc[\"Test\",\"count\"]\n",
    "    ctrl_sum = cr_summary.loc[\"Control\",\"sum\"]\n",
    "    ctrl_n   = cr_summary.loc[\"Control\",\"count\"]\n",
    "    \n",
    "    count = np.array([test_sum, ctrl_sum])\n",
    "    nobs  = np.array([test_n, ctrl_n])\n",
    "    stat, p_value = sm.stats.proportions_ztest(count, nobs, alternative='two-sided')\n",
    "    \n",
    "    return {\n",
    "        \"CR_Test\":    cr_summary.loc[\"Test\",    \"mean\"],\n",
    "        \"CR_Control\": cr_summary.loc[\"Control\", \"mean\"],\n",
    "        \"z_stat\":     stat,\n",
    "        \"p_value\":    p_value,\n",
    "        \"test_sum\":   test_sum,\n",
    "        \"test_n\":     test_n,\n",
    "        \"ctrl_sum\":   ctrl_sum,\n",
    "        \"ctrl_n\":     ctrl_n\n",
    "    }\n",
    "\n",
    "alpha = 0.05\n",
    "age_bins = df_sessions[\"age_bin\"].unique()\n",
    "\n",
    "for ab in age_bins:\n",
    "    if pd.isna(ab):\n",
    "        # Si hay filas sin edad, se ignoran o se gestionan aparte\n",
    "        continue\n",
    "    \n",
    "    seg_df = df_sessions[df_sessions[\"age_bin\"] == ab]\n",
    "    result = proportion_test_for_segment(seg_df)\n",
    "    if result is None:\n",
    "        print(f\"Rango edad {ab}: No hay datos suficientes para 'Test' o 'Control'.\")\n",
    "        continue\n",
    "    \n",
    "    print(f\"=== Rango de Edad: {ab} ===\")\n",
    "    print(f\"   Completion Rate (Test)   = {result['CR_Test']:.3%}\")\n",
    "    print(f\"   Completion Rate (Control)= {result['CR_Control']:.3%}\")\n",
    "    print(f\"   z-stat = {result['z_stat']:.4f}, p-value = {result['p_value']:.6f}\")\n",
    "    \n",
    "    if result[\"p_value\"] < alpha:\n",
    "        print(\"   -> Diferencia significativa (rechazamos H0).\")\n",
    "    else:\n",
    "        print(\"   -> No hay diferencia significativa (no rechazamos H0).\")\n",
    "    \n",
    "    print(f\"   [Test completó {int(result['test_sum'])} de {int(result['test_n'])} sesiones]\")\n",
    "    print(f\"   [Ctrl completó {int(result['ctrl_sum'])} de {int(result['ctrl_n'])} sesiones]\\n\")\n"
   ]
  },
  {
   "cell_type": "markdown",
   "metadata": {},
   "source": [
    "## Gráfico"
   ]
  },
  {
   "cell_type": "code",
   "execution_count": 9,
   "metadata": {},
   "outputs": [
    {
     "name": "stderr",
     "output_type": "stream",
     "text": [
      "C:\\Users\\jesus\\AppData\\Local\\Temp\\ipykernel_25436\\3714694722.py:6: FutureWarning: The default of observed=False is deprecated and will be changed to True in a future version of pandas. Pass observed=False to retain current behavior or observed=True to adopt the future default and silence this warning.\n",
      "  .groupby([\"age_bin\", \"variation\"], as_index=False)[\"completed\"]\n"
     ]
    },
    {
     "data": {
      "image/png": "[encoded data removed]",
      "text/plain": [
       "<Figure size 700x500 with 1 Axes>"
      ]
     },
     "metadata": {},
     "output_type": "display_data"
    }
   ],
   "source": [
    "# -------------------------------------------\n",
    "# PASO 1: Crear un DataFrame con la CR (Completion Rate) por rango de edad y grupo\n",
    "# -------------------------------------------\n",
    "df_cr_by_age = (\n",
    "    df_sessions\n",
    "    .groupby([\"age_bin\", \"variation\"], as_index=False)[\"completed\"]\n",
    "    .mean()  # mean() = tasa de finalización en cada grupo\n",
    ")\n",
    "\n",
    "# -------------------------------------------\n",
    "# PASO 2: Convertir a tabla dinámica para gráfico\n",
    "# -------------------------------------------\n",
    "df_pivot = df_cr_by_age.pivot(index=\"age_bin\", columns=\"variation\", values=\"completed\")\n",
    "\n",
    "# -------------------------------------------\n",
    "# PASO 3: Definir colores\n",
    "# -------------------------------------------\n",
    "# Asignamos un color por cada columna, según sea \"Control\", \"Test\" o \"Unknown\"\n",
    "color_map = {\n",
    "    \"Control\": \"red\",\n",
    "    \"Test\": \"green\",\n",
    "    \"Unknown\": \"gray\"  # por si hubiera alguna categoría adicional\n",
    "}\n",
    "# Para cada columna en df_pivot, seleccionamos el color\n",
    "colors = [color_map.get(col, \"gray\") for col in df_pivot.columns]\n",
    "\n",
    "# -------------------------------------------\n",
    "# PASO 4: Hacer el gráfico de barras con colores personalizados\n",
    "# -------------------------------------------\n",
    "ax = df_pivot.plot(\n",
    "    kind=\"bar\",\n",
    "    figsize=(7, 5),\n",
    "    color=colors  # lista de colores en el mismo orden que las columnas\n",
    ")\n",
    "\n",
    "ax.set_title(\"Completion Rate por Rango de Edad y Grupo (Test vs. Control)\")\n",
    "ax.set_xlabel(\"Rango de Edad\")\n",
    "ax.set_ylabel(\"Tasa de Finalización (Completion Rate)\")\n",
    "ax.set_ylim(0, 1)\n",
    "ax.legend(title=\"Grupo\")\n",
    "\n",
    "plt.xticks(rotation=0)  # Mantener etiquetas de eje X horizontales\n",
    "plt.tight_layout()\n",
    "plt.show()\n"
   ]
  }
 ],
 "metadata": {
  "kernelspec": {
   "display_name": "base",
   "language": "python",
   "name": "python3"
  },
  "language_info": {
   "codemirror_mode": {
    "name": "ipython",
    "version": 3
   },
   "file_extension": ".py",
   "mimetype": "text/x-python",
   "name": "python",
   "nbconvert_exporter": "python",
   "pygments_lexer": "ipython3",
   "version": "3.12.7"
  }
 },
 "nbformat": 4,
 "nbformat_minor": 2
}
