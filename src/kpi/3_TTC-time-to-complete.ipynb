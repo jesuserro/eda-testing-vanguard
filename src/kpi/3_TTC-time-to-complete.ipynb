{
 "cells": [
  {
   "cell_type": "code",
   "execution_count": 1,
   "metadata": {},
   "outputs": [
    {
     "name": "stdout",
     "output_type": "stream",
     "text": [
      "|                  |   count |   unique | top                         |   freq |             mean |              std |     min |             25% |             50% |             75% |           max |   missing |\n",
      "|:-----------------|--------:|---------:|:----------------------------|-------:|-----------------:|-----------------:|--------:|----------------:|----------------:|----------------:|--------------:|----------:|\n",
      "| client_id        |  298441 |    47686 | nan                         |    nan |      5.00878e+06 |      2.87311e+06 |   555   |     2.51657e+06 |     5.04806e+06 |      7.4756e+06 |   9.99983e+06 |         0 |\n",
      "| visitor_id       |  298441 |    52760 | 819447509_47703321203       |     72 |    nan           |    nan           |   nan   |   nan           |   nan           |    nan          | nan           |         0 |\n",
      "| visit_id         |  298441 |    64744 | 428529357_6959155752_124163 |     42 |    nan           |    nan           |   nan   |   nan           |   nan           |    nan          | nan           |         0 |\n",
      "| process_step     |  298441 |        5 | start                       |  95310 |    nan           |    nan           |   nan   |   nan           |   nan           |    nan          | nan           |         0 |\n",
      "| date_time        |  298441 |   267926 | 2017-03-29 11:11:06         |     12 |    nan           |    nan           |   nan   |   nan           |   nan           |    nan          | nan           |         0 |\n",
      "| clnt_tenure_yr   |  298441 |       31 | nan                         |    nan |     11.7411      |      6.42137     |     2   |     6           |    11           |     15          |  32           |         0 |\n",
      "| clnt_tenure_mnth |  298441 |      363 | nan                         |    nan |    146.934       |     76.6752      |    33   |    81           |   132           |    190          | 395           |         0 |\n",
      "| clnt_age         |  298441 |      154 | nan                         |    nan |     48.1964      |     15.5884      |    17   |    34.5         |    49.5         |     60.5        |  93           |         0 |\n",
      "| gendr            |  298441 |        3 | U                           | 104420 |    nan           |    nan           |   nan   |   nan           |   nan           |    nan          | nan           |         0 |\n",
      "| num_accts        |  298441 |        3 | nan                         |    nan |      2.18271     |      0.386469    |     1   |     2           |     2           |      2          |   3           |         0 |\n",
      "| bal              |  298441 |    47504 | nan                         |    nan | 122255           | 146987           | 23789.4 | 39880.5         | 65303.4         | 135046          |   1.05162e+06 |         0 |\n",
      "| calls_6_mnth     |  298441 |        7 | nan                         |    nan |      3.15112     |      2.18873     |     0   |     1           |     3           |      6          |   6           |         0 |\n",
      "| logons_6_mnth    |  298441 |        7 | nan                         |    nan |      6.18671     |      2.17516     |     3   |     4           |     6           |      9          |   9           |         0 |\n",
      "| variation        |  298441 |        2 | Test                        | 166448 |    nan           |    nan           |   nan   |   nan           |   nan           |    nan          | nan           |         0 |\n"
     ]
    }
   ],
   "source": [
    "import pandas as pd\n",
    "import numpy as np\n",
    "import statsmodels.api as sm\n",
    "from scipy import stats\n",
    "\n",
    "# --------------------------------------------------\n",
    "# PASO 1: Cargar el DataFrame y convertir 'date_time' a datetime\n",
    "# --------------------------------------------------\n",
    "df = pd.read_csv(\"../../data/processed/navegacion_clientes_experimento_limpio.csv\")\n",
    "\n",
    "# Obtener estadísticas descriptivas de todas las columnas\n",
    "desc = df.describe(include='all').T\n",
    "\n",
    "# Añadir información sobre valores nulos y únicos\n",
    "desc['missing'] = df.isnull().sum()\n",
    "desc['unique'] = df.nunique()\n",
    "\n",
    "# Formatear la tabla en formato Markdown\n",
    "markdown_table = desc.to_markdown()\n",
    "\n",
    "# Mostrar la tabla en formato Markdown\n",
    "print(markdown_table)"
   ]
  },
  {
   "cell_type": "code",
   "execution_count": 2,
   "metadata": {},
   "outputs": [
    {
     "name": "stdout",
     "output_type": "stream",
     "text": [
      "|   client_id (int64) |   visitor_id (object) |            visit_id (object) | process_step (object)   | date_time (object)   |   clnt_tenure_yr (int64) |   clnt_tenure_mnth (int64) |   clnt_age (float64) | gendr (object)   |   num_accts (int64) |   bal (float64) |   calls_6_mnth (int64) |   logons_6_mnth (int64) | variation (object)   |\n",
      "|--------------------:|----------------------:|-----------------------------:|:------------------------|:---------------------|-------------------------:|---------------------------:|---------------------:|:-----------------|--------------------:|----------------:|-----------------------:|------------------------:|:---------------------|\n",
      "|             9988021 |  580560515_7732621733 | 781255054_21935453173_531117 | step_3                  | 2017-04-17 15:27:07  |                        5 |                         64 |                 79   | U                |                   2 |        189024   |                      1 |                       4 | Test                 |\n",
      "|             9988021 |  580560515_7732621733 | 781255054_21935453173_531117 | step_2                  | 2017-04-17 15:26:51  |                        5 |                         64 |                 79   | U                |                   2 |        189024   |                      1 |                       4 | Test                 |\n",
      "|             9988021 |  580560515_7732621733 | 781255054_21935453173_531117 | step_3                  | 2017-04-17 15:19:22  |                        5 |                         64 |                 79   | U                |                   2 |        189024   |                      1 |                       4 | Test                 |\n",
      "|             9988021 |  580560515_7732621733 | 781255054_21935453173_531117 | step_2                  | 2017-04-17 15:19:13  |                        5 |                         64 |                 79   | U                |                   2 |        189024   |                      1 |                       4 | Test                 |\n",
      "|             9988021 |  580560515_7732621733 | 781255054_21935453173_531117 | step_3                  | 2017-04-17 15:18:04  |                        5 |                         64 |                 79   | U                |                   2 |        189024   |                      1 |                       4 | Test                 |\n",
      "|             9988021 |  580560515_7732621733 | 781255054_21935453173_531117 | step_2                  | 2017-04-17 15:17:15  |                        5 |                         64 |                 79   | U                |                   2 |        189024   |                      1 |                       4 | Test                 |\n",
      "|             9988021 |  580560515_7732621733 | 781255054_21935453173_531117 | step_1                  | 2017-04-17 15:17:01  |                        5 |                         64 |                 79   | U                |                   2 |        189024   |                      1 |                       4 | Test                 |\n",
      "|             9988021 |  580560515_7732621733 | 781255054_21935453173_531117 | start                   | 2017-04-17 15:16:22  |                        5 |                         64 |                 79   | U                |                   2 |        189024   |                      1 |                       4 | Test                 |\n",
      "|             8320017 |  39393514_33118319366 | 960651974_70596002104_312201 | confirm                 | 2017-04-05 13:10:05  |                       22 |                        274 |                 34.5 | M                |                   2 |         36001.9 |                      5 |                       8 | Test                 |\n",
      "|             8320017 |  39393514_33118319366 | 960651974_70596002104_312201 | step_3                  | 2017-04-05 13:09:43  |                       22 |                        274 |                 34.5 | M                |                   2 |         36001.9 |                      5 |                       8 | Test                 |\n",
      "|             8320017 |  39393514_33118319366 | 960651974_70596002104_312201 | step_2                  | 2017-04-05 13:08:40  |                       22 |                        274 |                 34.5 | M                |                   2 |         36001.9 |                      5 |                       8 | Test                 |\n",
      "|             8320017 |  39393514_33118319366 | 960651974_70596002104_312201 | step_1                  | 2017-04-05 13:08:24  |                       22 |                        274 |                 34.5 | M                |                   2 |         36001.9 |                      5 |                       8 | Test                 |\n",
      "|             8320017 |  39393514_33118319366 | 960651974_70596002104_312201 | start                   | 2017-04-05 13:08:06  |                       22 |                        274 |                 34.5 | M                |                   2 |         36001.9 |                      5 |                       8 | Test                 |\n",
      "|             4033851 | 762728880_76361333336 | 949661017_22392791362_127391 | confirm                 | 2017-04-05 12:29:03  |                       12 |                        149 |                 63.5 | M                |                   2 |        142642   |                      5 |                       8 | Control              |\n",
      "|             4033851 | 762728880_76361333336 | 949661017_22392791362_127391 | confirm                 | 2017-04-05 12:29:01  |                       12 |                        149 |                 63.5 | M                |                   2 |        142642   |                      5 |                       8 | Control              |\n",
      "|             4033851 | 762728880_76361333336 | 949661017_22392791362_127391 | confirm                 | 2017-04-05 12:28:52  |                       12 |                        149 |                 63.5 | M                |                   2 |        142642   |                      5 |                       8 | Control              |\n",
      "|             4033851 | 762728880_76361333336 | 949661017_22392791362_127391 | step_3                  | 2017-04-05 12:26:08  |                       12 |                        149 |                 63.5 | M                |                   2 |        142642   |                      5 |                       8 | Control              |\n",
      "|             4033851 | 762728880_76361333336 | 949661017_22392791362_127391 | step_2                  | 2017-04-05 12:24:43  |                       12 |                        149 |                 63.5 | M                |                   2 |        142642   |                      5 |                       8 | Control              |\n",
      "|             4033851 | 762728880_76361333336 | 949661017_22392791362_127391 | step_1                  | 2017-04-05 12:24:12  |                       12 |                        149 |                 63.5 | M                |                   2 |        142642   |                      5 |                       8 | Control              |\n",
      "|             4033851 | 762728880_76361333336 | 949661017_22392791362_127391 | start                   | 2017-04-05 12:24:04  |                       12 |                        149 |                 63.5 | M                |                   2 |        142642   |                      5 |                       8 | Control              |\n"
     ]
    }
   ],
   "source": [
    "# Obtener las primeras filas del DataFrame\n",
    "head_df = df.head(20)\n",
    "\n",
    "# Añadir el tipo de cada columna al encabezado\n",
    "column_types = df.dtypes\n",
    "head_df.columns = [f\"{col} ({dtype})\" for col, dtype in zip(head_df.columns, column_types)]\n",
    "\n",
    "# Formatear la tabla en formato Markdown\n",
    "markdown_table = head_df.to_markdown(index=False)\n",
    "\n",
    "# Mostrar la tabla en formato Markdown\n",
    "print(markdown_table)"
   ]
  },
  {
   "cell_type": "code",
   "execution_count": null,
   "metadata": {},
   "outputs": [
    {
     "name": "stdout",
     "output_type": "stream",
     "text": [
      "=== Time to Complete (TTC) por sesión (en minutos) ===\n",
      "Media TTC Test   : 6.93 minutos\n",
      "Media TTC Control: 6.73 minutos\n",
      "t-statistic      : nan\n",
      "p-value (one-tailed): nan\n",
      "\n",
      "Conclusión: No rechazamos H0. No se evidencia que el grupo Test tenga un TTC menor que Control (p >= 0.05).\n"
     ]
    }
   ],
   "source": [
    "\n",
    "df[\"date_time\"] = pd.to_datetime(df[\"date_time\"])\n",
    "\n",
    "# --------------------------------------------------\n",
    "# PASO 2: Filtrar registros relevantes: 'start' y 'confirm'\n",
    "# --------------------------------------------------\n",
    "df_times = df[df[\"process_step\"].isin([\"start\", \"confirm\"])].copy()\n",
    "\n",
    "# --------------------------------------------------\n",
    "# PASO 3: Agrupar a nivel de sesión (visit_id y variation)\n",
    "# --------------------------------------------------\n",
    "# Para cada sesión, se obtiene:\n",
    "# - start_time: la fecha/hora mínima cuando se registró 'start'\n",
    "# - confirm_time: la fecha/hora máxima cuando se registró 'confirm'\n",
    "def get_start(x):\n",
    "    # Filtrar valores donde process_step es \"start\"\n",
    "    return x[df_times.loc[x.index, \"process_step\"] == \"start\"].min()\n",
    "\n",
    "def get_confirm(x):\n",
    "    # Filtrar valores donde process_step es \"confirm\"\n",
    "    return x[df_times.loc[x.index, \"process_step\"] == \"confirm\"].max()\n",
    "\n",
    "df_session_times = (\n",
    "    df_times.groupby([\"visit_id\", \"variation\"], as_index=False)\n",
    "            .agg(start_time=(\"date_time\", get_start),\n",
    "                 confirm_time=(\"date_time\", get_confirm))\n",
    ")\n",
    "\n",
    "# Eliminar sesiones sin confirm (donde confirm_time es NaT)\n",
    "df_session_times = df_session_times.dropna(subset=[\"confirm_time\"])\n",
    "\n",
    "# --------------------------------------------------\n",
    "# PASO 4: Calcular Time to Complete (TTC)\n",
    "# --------------------------------------------------\n",
    "# Se calcula el tiempo de finalización en minutos para cada sesión:\n",
    "df_session_times[\"TTC_minutes\"] = (df_session_times[\"confirm_time\"] - df_session_times[\"start_time\"]).dt.total_seconds() / 60\n",
    "\n",
    "# --------------------------------------------------\n",
    "# PASO 5: Separar los grupos Test y Control\n",
    "# --------------------------------------------------\n",
    "ttc_test = df_session_times[df_session_times[\"variation\"] == \"Test\"][\"TTC_minutes\"]\n",
    "ttc_control = df_session_times[df_session_times[\"variation\"] == \"Control\"][\"TTC_minutes\"]\n",
    "\n",
    "# --------------------------------------------------\n",
    "# PASO 6: Formular la hipótesis y realizar el test\n",
    "# --------------------------------------------------\n",
    "# Hipótesis:\n",
    "# H0: La media de TTC en Test es igual a la media de TTC en Control.\n",
    "# H1: La media de TTC en Test es menor que la de Control (ya que menor TTC implica mejor UX).\n",
    "\n",
    "# Se usa un test t de muestras independientes (suponiendo varianzas desiguales)\n",
    "t_stat, p_value_two_tailed = stats.ttest_ind(ttc_test, ttc_control, equal_var=False)\n",
    "\n",
    "# Convertir a p-value one-tailed (para H1: Test < Control)\n",
    "if t_stat < 0:\n",
    "    p_value_one_tailed = p_value_two_tailed / 2\n",
    "else:\n",
    "    p_value_one_tailed = 1 - p_value_two_tailed / 2\n",
    "\n",
    "print(\"=== Time to Complete (TTC) por sesión (en minutos) ===\")\n",
    "print(f\"Media TTC Test   : {ttc_test.mean():.2f} minutos\")\n",
    "print(f\"Media TTC Control: {ttc_control.mean():.2f} minutos\")\n",
    "print(f\"t-statistic      : {t_stat:.4f}\")\n",
    "print(f\"p-value (one-tailed): {p_value_one_tailed:.6f}\")\n",
    "\n",
    "alpha = 0.05\n",
    "if p_value_one_tailed < alpha:\n",
    "    print(f\"\\nConclusión: Rechazamos H0. El grupo Test tiene un TTC significativamente menor que Control (p < {alpha}).\")\n",
    "else:\n",
    "    print(f\"\\nConclusión: No rechazamos H0. No se evidencia que el grupo Test tenga un TTC menor que Control (p >= {alpha}).\")\n"
   ]
  }
 ],
 "metadata": {
  "kernelspec": {
   "display_name": "base",
   "language": "python",
   "name": "python3"
  },
  "language_info": {
   "codemirror_mode": {
    "name": "ipython",
    "version": 3
   },
   "file_extension": ".py",
   "mimetype": "text/x-python",
   "name": "python",
   "nbconvert_exporter": "python",
   "pygments_lexer": "ipython3",
   "version": "3.12.7"
  }
 },
 "nbformat": 4,
 "nbformat_minor": 2
}
