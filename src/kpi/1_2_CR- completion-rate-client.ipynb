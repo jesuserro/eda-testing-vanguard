{
 "cells": [
  {
   "cell_type": "markdown",
   "metadata": {},
   "source": [
    "# Completion Rate (CR) per client - Tasa de Finalización"
   ]
  },
  {
   "cell_type": "markdown",
   "metadata": {},
   "source": [
    "## Carga de datos"
   ]
  },
  {
   "cell_type": "code",
   "execution_count": 1,
   "metadata": {},
   "outputs": [],
   "source": [
    "# --------------------------------------------------\n",
    "# PASO 1: IMPORTAR LIBRERÍAS\n",
    "# --------------------------------------------------\n",
    "import pandas as pd\n",
    "import numpy as np\n",
    "import statsmodels.api as sm\n",
    "\n",
    "# --------------------------------------------------\n",
    "# PASO 2: CARGAR DATOS\n",
    "# --------------------------------------------------\n",
    "# Ajusta la ruta según tu proyecto:\n",
    "df = pd.read_csv(\"../../data/processed/navegacion_clientes_experimento_limpio.csv\")"
   ]
  },
  {
   "cell_type": "markdown",
   "metadata": {},
   "source": [
    "## Toma de muestras - por sesión"
   ]
  },
  {
   "cell_type": "code",
   "execution_count": 2,
   "metadata": {},
   "outputs": [
    {
     "name": "stdout",
     "output_type": "stream",
     "text": [
      "=== COMPLETION RATE POR GRUPO (variation) ===\n",
      "               mean    sum  count\n",
      "variation                        \n",
      "Control    0.641139  10473  16335\n",
      "Test       0.680411  12838  18868\n",
      "\n",
      "- mean  = Tasa de finalización (Completion Rate) a nivel de cliente\n",
      "- sum   = Nº de clientes que completaron al menos una vez\n",
      "- count = Nº total de clientes en cada grupo\n",
      "\n"
     ]
    }
   ],
   "source": [
    "# --------------------------------------------------\n",
    "# PASO 2: DEFINIR SI EL CLIENTE (client_id) COMPLETÓ EL PROCESO\n",
    "# --------------------------------------------------\n",
    "# Para cada fila, la columna \"completed\" es 1 si `process_step` == \"confirm\", 0 en caso contrario.\n",
    "df[\"completed\"] = df[\"process_step\"].eq(\"confirm\")\n",
    "\n",
    "# --------------------------------------------------\n",
    "# PASO 3: AGRUPAR POR (variation, client_id)\n",
    "# --------------------------------------------------\n",
    "# Queremos quedarnos con 1 fila por cliente, indicando si completó el proceso (al menos una vez).\n",
    "df_clients = (\n",
    "    df.groupby([\"variation\", \"client_id\"], as_index=False)\n",
    "      .agg({\"completed\": \"max\"})  \n",
    ")\n",
    "# 'completed' = 1 si en alguna sesión del cliente con esa variation hubo un confirm, 0 de lo contrario.\n",
    "# Forma 2: Lucho/Toño: \n",
    "# df_sessions = df_sessions.groupby(\"client_id\"[\"completed\"].max().reset_index()\n",
    "# Forma 3: numpy intersect by Cris\n",
    "\n",
    "# (Opcional) Filtrar si tienes una columna \"Unknown\" que deseas excluir\n",
    "df_clients = df_clients[df_clients[\"variation\"].isin([\"Control\",\"Test\"])].copy()\n",
    "\n",
    "# --------------------------------------------------\n",
    "# PASO 4: CALCULAR COMPLETION RATE POR GRUPO (Control vs. Test)\n",
    "# --------------------------------------------------\n",
    "cr_data = df_clients.groupby(\"variation\")[\"completed\"].agg([\"mean\", \"sum\", \"count\"])\n",
    "\n",
    "print(\"=== COMPLETION RATE POR GRUPO (variation) ===\")\n",
    "print(cr_data)\n",
    "print(\"\\n- mean  = Tasa de finalización (Completion Rate) a nivel de cliente\")\n",
    "print(\"- sum   = Nº de clientes que completaron al menos una vez\")\n",
    "print(\"- count = Nº total de clientes en cada grupo\\n\")"
   ]
  },
  {
   "cell_type": "markdown",
   "metadata": {},
   "source": [
    "## Hipótesis"
   ]
  },
  {
   "cell_type": "code",
   "execution_count": 3,
   "metadata": {},
   "outputs": [
    {
     "name": "stdout",
     "output_type": "stream",
     "text": [
      "=== PRUEBA DE HIPÓTESIS PARA COMPLETION RATE (a nivel de cliente) ===\n",
      "Estadístico z: 7.7695\n",
      "p-value      : 0.000000\n"
     ]
    }
   ],
   "source": [
    "# --------------------------------------------------\n",
    "# PASO 5: TEST DE HIPÓTESIS (Z-TEST DE PROPORCIONES)\n",
    "# --------------------------------------------------\n",
    "# H0: CR(Test) = CR(Control)\n",
    "# H1: CR(Test) != CR(Control) (test bilateral, por ejemplo)\n",
    "\n",
    "test_sum   = cr_data.loc[\"Test\",    \"sum\"]\n",
    "test_count = cr_data.loc[\"Test\",    \"count\"]\n",
    "ctrl_sum   = cr_data.loc[\"Control\", \"sum\"]\n",
    "ctrl_count = cr_data.loc[\"Control\", \"count\"]\n",
    "\n",
    "count = np.array([test_sum, ctrl_sum])\n",
    "nobs  = np.array([test_count, ctrl_count])\n",
    "\n",
    "stat, p_value = sm.stats.proportions_ztest(count, nobs, alternative='two-sided')\n",
    "\n",
    "print(\"=== PRUEBA DE HIPÓTESIS PARA COMPLETION RATE (a nivel de cliente) ===\")\n",
    "print(f\"Estadístico z: {stat:.4f}\")\n",
    "print(f\"p-value      : {p_value:.6f}\")"
   ]
  },
  {
   "cell_type": "markdown",
   "metadata": {},
   "source": [
    "## Interpretación"
   ]
  },
  {
   "cell_type": "code",
   "execution_count": 4,
   "metadata": {},
   "outputs": [
    {
     "name": "stdout",
     "output_type": "stream",
     "text": [
      "\n",
      "Conclusión: Rechazamos H0 (p < 0.05).\n",
      "Hay diferencia estadísticamente significativa en la Completion Rate entre Test y Control (a nivel de cliente).\n",
      "\n",
      "=== Resumen Final (KPI a nivel de cliente) ===\n",
      "Completion Rate (Test)    : 68.041%\n",
      "Completion Rate (Control) : 64.114%\n",
      "p-value                   : 0.000000\n"
     ]
    }
   ],
   "source": [
    "alpha = 0.05\n",
    "\n",
    "if p_value < alpha:\n",
    "    print(f\"\\nConclusión: Rechazamos H0 (p < {alpha}).\")\n",
    "    print(\"Hay diferencia estadísticamente significativa en la Completion Rate entre Test y Control (a nivel de cliente).\")\n",
    "else:\n",
    "    print(f\"\\nConclusión: No rechazamos H0 (p >= {alpha}).\")\n",
    "    print(\"No se detecta diferencia estadísticamente significativa en la Completion Rate entre Test y Control (a nivel de cliente).\")\n",
    "\n",
    "# --------------------------------------------------\n",
    "# PASO 6: RESUMEN\n",
    "# --------------------------------------------------\n",
    "cr_test    = cr_data.loc[\"Test\",    \"mean\"]\n",
    "cr_control = cr_data.loc[\"Control\", \"mean\"]\n",
    "\n",
    "print(f\"\\n=== Resumen Final (KPI a nivel de cliente) ===\")\n",
    "print(f\"Completion Rate (Test)    : {cr_test:.3%}\")\n",
    "print(f\"Completion Rate (Control) : {cr_control:.3%}\")\n",
    "print(f\"p-value                   : {p_value:.6f}\")"
   ]
  },
  {
   "cell_type": "markdown",
   "metadata": {},
   "source": [
    "## Consideraciones\n",
    "\n",
    "### Agrupación a nivel de sesión\n",
    "\n",
    "- Interpretación: “De todas las sesiones, ¿cuántas resultan en confirm (éxito)?”.\n",
    "- Un mismo cliente con 5 sesiones, 3 de ellas exitosas, contará 3 “éxitos” en el numerador.\n",
    "\n",
    "### Agrupación a nivel de cliente\n",
    "\n",
    "- Interpretación: “¿Cuántos clientes, como proporción de los que vieron Test/Control, completaron al menos una vez el proceso?”.\n",
    "- Esto “colapsa” todos los eventos del cliente: si en alguna sesión completó, completó todo.\n",
    "- Un mismo cliente con 3 sesiones exitosas igualmente aporta +1 al numerador, no +3.\n",
    "\n",
    "### Otros niveles o criterios\n",
    "\n",
    "- A veces se desea solo la primera sesión del cliente (para medir la “primera experiencia”).\n",
    "\n",
    "## Aclaración del KPI\n",
    "\n",
    "Lo esencial es definir el KPI con claridad. Si tu objetivo es medir la probabilidad de que un cliente complete el proceso en algún momento, agrupar por client_id tiene sentido. Si en cambio mides la probabilidad de que una sesión acabe en confirm, el agrupamiento por visit_id es correcto.\n",
    "\n",
    "## Es por cliente\n",
    "\n",
    "Basándote en la descripción del experimento y en cómo se asignaron los participantes (cada cliente quedó en Control o Test), lo más coherente con la pregunta de negocio – “¿Más clientes llegan a completar el proceso con la nueva interfaz?” – es calcular la tasa de finalización a nivel de cliente."
   ]
  }
 ],
 "metadata": {
  "kernelspec": {
   "display_name": "base",
   "language": "python",
   "name": "python3"
  },
  "language_info": {
   "codemirror_mode": {
    "name": "ipython",
    "version": 3
   },
   "file_extension": ".py",
   "mimetype": "text/x-python",
   "name": "python",
   "nbconvert_exporter": "python",
   "pygments_lexer": "ipython3",
   "version": "3.12.7"
  }
 },
 "nbformat": 4,
 "nbformat_minor": 2
}
