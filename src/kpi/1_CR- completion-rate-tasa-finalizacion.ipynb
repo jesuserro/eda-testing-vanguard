{
 "cells": [
  {
   "cell_type": "markdown",
   "metadata": {},
   "source": [
    "# Completion Rate (CR)"
   ]
  },
  {
   "cell_type": "markdown",
   "metadata": {},
   "source": [
    "## Carga de datos"
   ]
  },
  {
   "cell_type": "code",
   "execution_count": null,
   "metadata": {},
   "outputs": [],
   "source": [
    "# --------------------------------------------------\n",
    "# PASO 1: IMPORTAR LIBRERÍAS\n",
    "# --------------------------------------------------\n",
    "import pandas as pd\n",
    "import numpy as np\n",
    "import statsmodels.api as sm\n",
    "\n",
    "# --------------------------------------------------\n",
    "# PASO 2: CARGAR DATOS\n",
    "# --------------------------------------------------\n",
    "# Ajusta la ruta según tu proyecto:\n",
    "df = pd.read_csv(\"../../data/processed/navegacion_clientes_experimento_limpio.csv\")"
   ]
  },
  {
   "cell_type": "code",
   "execution_count": null,
   "metadata": {},
   "outputs": [
    {
     "name": "stdout",
     "output_type": "stream",
     "text": [
      "=== COMPLETION RATE POR GRUPO (variation) ===\n",
      "               mean    sum  count\n",
      "variation                        \n",
      "Control    0.498439  15006  30106\n",
      "Test       0.580451  20173  34754\n",
      "Unknown    0.544714  14113  25909\n",
      "\n",
      "- mean  = Tasa de finalización (Completion Rate)\n",
      "- sum   = Nº de sesiones completadas\n",
      "- count = Nº total de sesiones\n",
      "\n",
      "=== PRUEBA DE HIPÓTESIS PARA COMPLETION RATE ===\n",
      "Estadístico z: 20.9081\n",
      "p-value     : 0.000000\n",
      "\n",
      "Conclusión: Rechazamos H0 (p < 0.05).\n",
      "Hay diferencia estadísticamente significativa en la Completion Rate entre Test y Control.\n",
      "\n",
      "=== Resumen Final ===\n",
      "Completion Rate (Test)    : 58.045%\n",
      "Completion Rate (Control) : 49.844%\n",
      "p-value                   : 0.000000\n"
     ]
    }
   ],
   "source": [
    "# --------------------------------------------------\n",
    "# PASO 3: DEFINIR \"COMPLETÓ SESIÓN\"\n",
    "# --------------------------------------------------\n",
    "# Suponiendo que llegar a 'confirm' implica completar el flujo:\n",
    "df[\"completed\"] = df[\"process_step\"] == \"confirm\"\n",
    "\n",
    "# --------------------------------------------------\n",
    "# PASO 4: AGRUPAR POR (variation, visit_id)\n",
    "# --------------------------------------------------\n",
    "# Cada visit_id es una sesión. Tomamos la \"máxima\" de 'completed'\n",
    "# para saber si en esa sesión hubo al menos un 'confirm'.\n",
    "df_sessions = (df.groupby([\"variation\", \"visit_id\"], as_index=False).agg({\"completed\": \"max\"}))\n",
    "\n",
    "# --------------------------------------------------\n",
    "# PASO 5: CALCULAR COMPLETION RATE POR GRUPO\n",
    "# --------------------------------------------------\n",
    "cr_data = df_sessions.groupby(\"variation\")[\"completed\"].agg([\"mean\", \"sum\", \"count\"])\n",
    "print(\"=== COMPLETION RATE POR GRUPO (variation) ===\")\n",
    "print(cr_data)\n",
    "print(\"\\n- mean  = Tasa de finalización (Completion Rate)\")\n",
    "print(\"- sum   = Nº de sesiones completadas\")\n",
    "print(\"- count = Nº total de sesiones\\n\")\n",
    "\n",
    "# --------------------------------------------------\n",
    "# PASO 6: TEST DE HIPÓTESIS (COMPARACIÓN DE PROPORCIONES)\n",
    "# --------------------------------------------------\n",
    "# H0: CR (Test) = CR (Control)\n",
    "# H1: CR (Test) != CR (Control)   (test bilateral, por ejemplo)\n",
    "\n",
    "test_sum = cr_data.loc[\"Test\",   \"sum\"]   # Nº de sesiones completadas en Test\n",
    "test_cnt = cr_data.loc[\"Test\",   \"count\"] # Total de sesiones en Test\n",
    "ctrl_sum = cr_data.loc[\"Control\",\"sum\"]   # Nº de sesiones completadas en Control\n",
    "ctrl_cnt = cr_data.loc[\"Control\",\"count\"] # Total de sesiones en Control\n",
    "\n",
    "count = np.array([test_sum, ctrl_sum])  # sesiones completadas en cada grupo\n",
    "nobs  = np.array([test_cnt, ctrl_cnt])  # total de sesiones en cada grupo\n",
    "\n",
    "stat, p_value = sm.stats.proportions_ztest(count, nobs, alternative='two-sided')\n",
    "print(\"=== PRUEBA DE HIPÓTESIS PARA COMPLETION RATE ===\")\n",
    "print(f\"Estadístico z: {stat:.4f}\")\n",
    "print(f\"p-value     : {p_value:.6f}\")\n",
    "\n",
    "# --------------------------------------------------\n",
    "# PASO 7: INTERPRETAR RESULTADOS\n",
    "# --------------------------------------------------\n",
    "alpha = 0.05  # nivel de significancia (5%)\n",
    "\n",
    "if p_value < alpha:\n",
    "    print(f\"\\nConclusión: Rechazamos H0 (p < {alpha}).\")\n",
    "    print(\"Hay diferencia estadísticamente significativa en la Completion Rate entre Test y Control.\")\n",
    "else:\n",
    "    print(f\"\\nConclusión: No rechazamos H0 (p >= {alpha}).\")\n",
    "    print(\"No se detecta diferencia estadísticamente significativa en la Completion Rate entre Test y Control.\")\n",
    "\n",
    "# --------------------------------------------------\n",
    "# (Opcional) PASO 8: IMPRIMIR DATOS RESUMIDOS\n",
    "# --------------------------------------------------\n",
    "cr_test    = cr_data.loc[\"Test\",   \"mean\"]  # CR del grupo Test\n",
    "cr_control = cr_data.loc[\"Control\",\"mean\"]  # CR del grupo Control\n",
    "\n",
    "print(f\"\\n=== Resumen Final ===\")\n",
    "print(f\"Completion Rate (Test)    : {cr_test:.3%}\")\n",
    "print(f\"Completion Rate (Control) : {cr_control:.3%}\")\n",
    "print(f\"p-value                   : {p_value:.6f}\")\n"
   ]
  }
 ],
 "metadata": {
  "kernelspec": {
   "display_name": "base",
   "language": "python",
   "name": "python3"
  },
  "language_info": {
   "codemirror_mode": {
    "name": "ipython",
    "version": 3
   },
   "file_extension": ".py",
   "mimetype": "text/x-python",
   "name": "python",
   "nbconvert_exporter": "python",
   "pygments_lexer": "ipython3",
   "version": "3.12.7"
  }
 },
 "nbformat": 4,
 "nbformat_minor": 2
}
