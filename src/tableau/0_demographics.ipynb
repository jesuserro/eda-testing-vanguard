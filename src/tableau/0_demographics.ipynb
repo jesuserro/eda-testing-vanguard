{
 "cells": [
  {
   "cell_type": "code",
   "execution_count": 6,
   "metadata": {},
   "outputs": [],
   "source": [
    "import pandas as pd\n",
    "\n",
    "df = pd.read_csv(\"../../data/processed/navegacion_clientes_experimento_limpio.csv\")\n",
    "\n",
    "# Exportar datos para la gráfica de distribución por género\n",
    "df_gender = df[\"gendr\"].value_counts().reset_index()\n",
    "df_gender.columns = [\"gendr\", \"count\"]\n",
    "df_gender.to_csv(\"../../data/processed/tableau/demographics/distribucion_genero.csv\", index=False)\n",
    "\n",
    "# Exportar datos para la gráfica de distribución por edad\n",
    "df_age = df[\"clnt_age\"].dropna().reset_index(drop=True)\n",
    "df_age.to_csv(\"../../data/processed/tableau/demographics/distribucion_edad.csv\", index=False)\n",
    "\n",
    "# Exportar datos para la gráfica de distribución por antigüedad\n",
    "df_tenure = df[\"clnt_tenure_yr\"].dropna().reset_index(drop=True)\n",
    "df_tenure.to_csv(\"../../data/processed/tableau/demographics/distribucion_antiguedad.csv\", index=False)\n",
    "\n",
    "# Exportar datos para la gráfica de distribución por número de cuentas\n",
    "df_num_accts = df[\"num_accts\"].value_counts().reset_index()\n",
    "df_num_accts.columns = [\"num_accts\", \"count\"]\n",
    "df_num_accts.to_csv(\"../../data/processed/tableau/demographics/distribucion_num_cuentas.csv\", index=False)\n",
    "\n",
    "# Exportar datos para la gráfica de distribución del balance total\n",
    "df_balance = df[\"bal\"].dropna().reset_index(drop=True)\n",
    "df_balance.to_csv(\"../../data/processed/tableau/demographics/distribucion_balance.csv\", index=False)"
   ]
  }
 ],
 "metadata": {
  "kernelspec": {
   "display_name": "base",
   "language": "python",
   "name": "python3"
  },
  "language_info": {
   "codemirror_mode": {
    "name": "ipython",
    "version": 3
   },
   "file_extension": ".py",
   "mimetype": "text/x-python",
   "name": "python",
   "nbconvert_exporter": "python",
   "pygments_lexer": "ipython3",
   "version": "3.12.7"
  }
 },
 "nbformat": 4,
 "nbformat_minor": 2
}
